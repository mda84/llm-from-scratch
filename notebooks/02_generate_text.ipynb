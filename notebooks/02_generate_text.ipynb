{
 "cells": [
  {
   "cell_type": "markdown",
   "id": "innocent-pulse",
   "metadata": {},
   "source": [
    "# 02: Text Generation with Decoder-Only LLM\n",
    "This notebook demonstrates how to load a trained GPT-style model and generate text using temperature, top-k, and top-p sampling."
   ]
  },
  {
   "cell_type": "code",
   "execution_count": null,
   "id": "useful-discharge",
   "metadata": {},
   "outputs": [],
   "source": [
    "# Install dependencies\n",
    "!pip install torch transformers"
   ]
  },
  {
   "cell_type": "code",
   "execution_count": 1,
   "id": "incorrect-married",
   "metadata": {},
   "outputs": [],
   "source": [
    "import sys\n",
    "import os\n",
    "sys.path.append(os.path.abspath(\"..\"))"
   ]
  },
  {
   "cell_type": "code",
   "execution_count": 3,
   "id": "laden-silver",
   "metadata": {},
   "outputs": [],
   "source": [
    "import torch\n",
    "from transformers import AutoTokenizer\n",
    "from models.decoder_only import GPTStyleDecoder\n",
    "from models.utils import sample_logits\n",
    "from models.rotary_embeddings import build_rope_cache"
   ]
  },
  {
   "cell_type": "markdown",
   "id": "compound-uniform",
   "metadata": {},
   "source": [
    "## Load tokenizer and model"
   ]
  },
  {
   "cell_type": "code",
   "execution_count": 4,
   "id": "atlantic-submission",
   "metadata": {},
   "outputs": [
    {
     "data": {
      "text/plain": [
       "GPTStyleDecoder(\n",
       "  (token_embed): Embedding(50257, 768)\n",
       "  (pos_embed): GPTPositionalEncoding()\n",
       "  (blocks): ModuleList(\n",
       "    (0-5): 6 x DecoderBlock(\n",
       "      (self_attn): CausalSelfAttention(\n",
       "        (attn): MultiheadAttention(\n",
       "          (out_proj): NonDynamicallyQuantizableLinear(in_features=768, out_features=768, bias=True)\n",
       "        )\n",
       "        (dropout): Dropout(p=0.1, inplace=False)\n",
       "        (ln): LayerNorm((768,), eps=1e-05, elementwise_affine=True)\n",
       "      )\n",
       "      (ff): Sequential(\n",
       "        (0): Linear(in_features=768, out_features=2048, bias=True)\n",
       "        (1): GELU(approximate='none')\n",
       "        (2): Linear(in_features=2048, out_features=768, bias=True)\n",
       "      )\n",
       "      (ln): LayerNorm((768,), eps=1e-05, elementwise_affine=True)\n",
       "      (dropout): Dropout(p=0.1, inplace=False)\n",
       "    )\n",
       "  )\n",
       "  (norm): LayerNorm((768,), eps=1e-05, elementwise_affine=True)\n",
       "  (lm_head): Linear(in_features=768, out_features=50257, bias=False)\n",
       ")"
      ]
     },
     "execution_count": 4,
     "metadata": {},
     "output_type": "execute_result"
    }
   ],
   "source": [
    "tokenizer = AutoTokenizer.from_pretrained(\"gpt2\")\n",
    "device = \"cuda\" if torch.cuda.is_available() else \"cpu\"\n",
    "\n",
    "model = GPTStyleDecoder(\n",
    "    vocab_size=tokenizer.vocab_size,\n",
    "    embed_dim=768,\n",
    "    depth=6,\n",
    "    heads=12,\n",
    "    ff_dim=2048,\n",
    "    max_len=128\n",
    ").to(device)\n",
    "model.load_state_dict(torch.load(\"gpt_decoder_trained.pt\", map_location=device))\n",
    "model.eval()"
   ]
  },
  {
   "cell_type": "markdown",
   "id": "offensive-drama",
   "metadata": {},
   "source": [
    "## Define generation function"
   ]
  },
  {
   "cell_type": "code",
   "execution_count": 5,
   "id": "tamil-circle",
   "metadata": {},
   "outputs": [],
   "source": [
    "def generate(model, tokenizer, prompt, max_new_tokens=50, temperature=1.0, top_k=50, top_p=0.95):\n",
    "    input_ids = tokenizer(prompt, return_tensors=\"pt\")[\"input_ids\"].to(device)\n",
    "    generated = input_ids.clone()\n",
    "    for _ in range(max_new_tokens):\n",
    "        with torch.no_grad():\n",
    "            logits = model(generated)\n",
    "            #sin, cos = build_rope_cache(generated.size(1), model.embed_dim // model.num_heads, device)\n",
    "            #logits = model(generated, sin=sin, cos=cos)\n",
    "            next_token_logits = logits[:, -1, :]\n",
    "            next_token = sample_logits(next_token_logits, temperature, top_k, top_p)\n",
    "            next_token = next_token.unsqueeze(1)\n",
    "            generated = torch.cat((generated, next_token), dim=1)\n",
    "    return tokenizer.decode(generated[0], skip_special_tokens=True)"
   ]
  },
  {
   "cell_type": "markdown",
   "id": "mediterranean-burden",
   "metadata": {},
   "source": [
    "## Try different prompts"
   ]
  },
  {
   "cell_type": "code",
   "execution_count": 6,
   "id": "enhanced-qualification",
   "metadata": {},
   "outputs": [
    {
     "name": "stdout",
     "output_type": "stream",
     "text": [
      "Prompt: Once upon a time\n",
      "\n",
      "Generated:\n",
      "Once upon a time of a word.\n",
      "O bloody-dises, a bawd!\n",
      "O God! O death! a son, father!\n",
      "\n",
      "FRIAR LAURENCE:\n",
      "I know not, when it is;\n",
      "Hence is my child and so long'd\n",
      "Shall,\n"
     ]
    }
   ],
   "source": [
    "prompt = \"Once upon a time\"\n",
    "output = generate(model, tokenizer, prompt, max_new_tokens=60, temperature=0.9, top_k=50, top_p=0.95)\n",
    "print(f\"Prompt: {prompt}\\n\\nGenerated:\\n{output}\")"
   ]
  },
  {
   "cell_type": "code",
   "execution_count": null,
   "id": "accomplished-external",
   "metadata": {},
   "outputs": [],
   "source": []
  }
 ],
 "metadata": {
  "kernelspec": {
   "display_name": "Python 3 (ipykernel)",
   "language": "python",
   "name": "python3"
  },
  "language_info": {
   "codemirror_mode": {
    "name": "ipython",
    "version": 3
   },
   "file_extension": ".py",
   "mimetype": "text/x-python",
   "name": "python",
   "nbconvert_exporter": "python",
   "pygments_lexer": "ipython3",
   "version": "3.9.2"
  }
 },
 "nbformat": 4,
 "nbformat_minor": 5
}
