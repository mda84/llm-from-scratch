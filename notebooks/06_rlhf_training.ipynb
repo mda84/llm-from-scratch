{
 "cells": [
  {
   "cell_type": "markdown",
   "id": "split-realtor",
   "metadata": {},
   "source": [
    "# 06: RLHF PPO Training Loop\n",
    "This notebook simulates Reinforcement Learning from Human Feedback (RLHF) using PPO with a trained reward model."
   ]
  },
  {
   "cell_type": "code",
   "execution_count": null,
   "id": "previous-saskatchewan",
   "metadata": {},
   "outputs": [],
   "source": [
    "!pip install torch transformers"
   ]
  },
  {
   "cell_type": "code",
   "execution_count": 1,
   "id": "suitable-table",
   "metadata": {},
   "outputs": [],
   "source": [
    "import sys\n",
    "import os\n",
    "sys.path.append(os.path.abspath(\"..\"))"
   ]
  },
  {
   "cell_type": "code",
   "execution_count": 2,
   "id": "academic-template",
   "metadata": {},
   "outputs": [],
   "source": [
    "import torch\n",
    "from transformers import AutoTokenizer\n",
    "from models.decoder_only import GPTStyleDecoder\n",
    "from rlhf.reward_model import RewardModel\n",
    "from rlhf.ppo_trainer import PPOTrainer"
   ]
  },
  {
   "cell_type": "markdown",
   "id": "accurate-israeli",
   "metadata": {},
   "source": [
    "## Load tokenizer and models"
   ]
  },
  {
   "cell_type": "code",
   "execution_count": 4,
   "id": "stable-ontario",
   "metadata": {},
   "outputs": [
    {
     "data": {
      "text/plain": [
       "<All keys matched successfully>"
      ]
     },
     "execution_count": 4,
     "metadata": {},
     "output_type": "execute_result"
    }
   ],
   "source": [
    "tokenizer = AutoTokenizer.from_pretrained(\"gpt2\")\n",
    "tokenizer.add_special_tokens({'pad_token': '[PAD]'})  # make sure it's added if it was before\n",
    "\n",
    "device = \"cuda\" if torch.cuda.is_available() else \"cpu\"\n",
    "\n",
    "policy_model = GPTStyleDecoder(vocab_size=tokenizer.vocab_size, embed_dim=768, depth=6, heads=12, ff_dim=2048).to(device)\n",
    "ref_model = GPTStyleDecoder(vocab_size=tokenizer.vocab_size, embed_dim=768, depth=6, heads=12, ff_dim=2048).to(device)\n",
    "#reward_model = RewardModel(vocab_size=tokenizer.vocab_size).to(device)\n",
    "reward_model = RewardModel(vocab_size=len(tokenizer)).to(device)\n",
    "\n",
    "policy_model.load_state_dict(torch.load(\"gpt_decoder_trained.pt\", map_location=device))\n",
    "ref_model.load_state_dict(torch.load(\"gpt_decoder_trained.pt\", map_location=device))\n",
    "reward_model.load_state_dict(torch.load(\"reward_model.pt\", map_location=device))"
   ]
  },
  {
   "cell_type": "markdown",
   "id": "median-immigration",
   "metadata": {},
   "source": [
    "## Initialize PPO Trainer"
   ]
  },
  {
   "cell_type": "code",
   "execution_count": 5,
   "id": "yellow-queens",
   "metadata": {},
   "outputs": [],
   "source": [
    "ppo = PPOTrainer(policy_model, ref_model, reward_model, lr=1e-5)"
   ]
  },
  {
   "cell_type": "markdown",
   "id": "previous-proposal",
   "metadata": {},
   "source": [
    "## Simulate batch of prompts and responses"
   ]
  },
  {
   "cell_type": "code",
   "execution_count": 6,
   "id": "sapphire-typing",
   "metadata": {},
   "outputs": [],
   "source": [
    "prompts = [\"The meaning of life is\", \"A good day starts with\"]\n",
    "input_ids = [tokenizer(p, return_tensors=\"pt\")[\"input_ids\"][0] for p in prompts]\n",
    "input_ids = torch.nn.utils.rnn.pad_sequence(input_ids, batch_first=True, padding_value=tokenizer.pad_token_id).to(device)\n",
    "\n",
    "# Simulate responses by repeating prompt or randomly extending\n",
    "responses = torch.cat([input_ids, torch.randint(0, tokenizer.vocab_size, (2, 20)).to(device)], dim=1)"
   ]
  },
  {
   "cell_type": "markdown",
   "id": "uniform-lesson",
   "metadata": {},
   "source": [
    "## Perform one PPO training step"
   ]
  },
  {
   "cell_type": "code",
   "execution_count": 7,
   "id": "continental-entrepreneur",
   "metadata": {},
   "outputs": [
    {
     "name": "stdout",
     "output_type": "stream",
     "text": [
      "PPO Training Metrics:\n",
      "loss: 0.0000\n",
      "policy_loss: -0.0000\n",
      "value_loss: 0.0000\n",
      "rewards_mean: -2.3325\n",
      "advantages_mean: 0.0000\n"
     ]
    }
   ],
   "source": [
    "ppo_metrics = ppo.train_step(input_ids, responses)\n",
    "print(\"PPO Training Metrics:\")\n",
    "for k, v in ppo_metrics.items():\n",
    "    print(f\"{k}: {v:.4f}\")"
   ]
  },
  {
   "cell_type": "code",
   "execution_count": null,
   "id": "pretty-lodge",
   "metadata": {},
   "outputs": [],
   "source": []
  }
 ],
 "metadata": {
  "kernelspec": {
   "display_name": "Python 3 (ipykernel)",
   "language": "python",
   "name": "python3"
  },
  "language_info": {
   "codemirror_mode": {
    "name": "ipython",
    "version": 3
   },
   "file_extension": ".py",
   "mimetype": "text/x-python",
   "name": "python",
   "nbconvert_exporter": "python",
   "pygments_lexer": "ipython3",
   "version": "3.9.2"
  }
 },
 "nbformat": 4,
 "nbformat_minor": 5
}
