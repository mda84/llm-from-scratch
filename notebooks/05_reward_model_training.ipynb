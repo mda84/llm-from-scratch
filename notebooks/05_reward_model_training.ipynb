{
 "cells": [
  {
   "cell_type": "markdown",
   "id": "useful-importance",
   "metadata": {},
   "source": [
    "# 05: Reward Model Training with Preference Data\n",
    "This notebook demonstrates how to train a reward model using human preference pairs."
   ]
  },
  {
   "cell_type": "code",
   "execution_count": null,
   "id": "israeli-enclosure",
   "metadata": {},
   "outputs": [],
   "source": [
    "!pip install torch transformers"
   ]
  },
  {
   "cell_type": "code",
   "execution_count": 1,
   "id": "equivalent-invitation",
   "metadata": {},
   "outputs": [],
   "source": [
    "import sys\n",
    "import os\n",
    "sys.path.append(os.path.abspath(\"..\"))"
   ]
  },
  {
   "cell_type": "code",
   "execution_count": 2,
   "id": "advance-merit",
   "metadata": {},
   "outputs": [],
   "source": [
    "import torch\n",
    "import torch.nn as nn\n",
    "import torch.optim as optim\n",
    "from torch.utils.data import DataLoader\n",
    "from transformers import AutoTokenizer\n",
    "from rlhf.reward_model import RewardModel\n",
    "from rlhf.preference_dataset import PreferenceDataset, reward_loss"
   ]
  },
  {
   "cell_type": "markdown",
   "id": "seasonal-blank",
   "metadata": {},
   "source": [
    "## Prepare preference pairs and tokenizer"
   ]
  },
  {
   "cell_type": "code",
   "execution_count": 3,
   "id": "accepted-biodiversity",
   "metadata": {},
   "outputs": [],
   "source": [
    "tokenizer = AutoTokenizer.from_pretrained(\"gpt2\")\n",
    "tokenizer.add_special_tokens({'pad_token': '[PAD]'})\n",
    "\n",
    "preference_pairs = [\n",
    "    (\"The cat sat on the mat.\", \"The cat was sat by the mat.\"),\n",
    "    (\"He won the race easily.\", \"He lost the race in shame.\"),\n",
    "    (\"The answer is correct.\", \"The answer might be wrong.\"),\n",
    "    (\"Paris is the capital of France.\", \"France is the capital of Paris.\"),\n",
    "]"
   ]
  },
  {
   "cell_type": "markdown",
   "id": "humanitarian-celebration",
   "metadata": {},
   "source": [
    "## Create Dataset and Dataloader"
   ]
  },
  {
   "cell_type": "code",
   "execution_count": 4,
   "id": "loving-probe",
   "metadata": {},
   "outputs": [],
   "source": [
    "dataset = PreferenceDataset(preference_pairs, tokenizer, max_length=64)\n",
    "dataloader = DataLoader(dataset, batch_size=2, shuffle=True)"
   ]
  },
  {
   "cell_type": "markdown",
   "id": "korean-customer",
   "metadata": {},
   "source": [
    "## Initialize Reward Model"
   ]
  },
  {
   "cell_type": "code",
   "execution_count": 7,
   "id": "impossible-badge",
   "metadata": {},
   "outputs": [],
   "source": [
    "device = \"cuda\" if torch.cuda.is_available() else \"cpu\"\n",
    "model = RewardModel(vocab_size=len(tokenizer)).to(device)\n",
    "optimizer = optim.AdamW(model.parameters(), lr=1e-4)"
   ]
  },
  {
   "cell_type": "markdown",
   "id": "senior-newfoundland",
   "metadata": {},
   "source": [
    "## Train the Reward Model"
   ]
  },
  {
   "cell_type": "code",
   "execution_count": 8,
   "id": "regular-conservation",
   "metadata": {},
   "outputs": [
    {
     "name": "stdout",
     "output_type": "stream",
     "text": [
      "Epoch 1 Loss: 0.6825\n",
      "Epoch 2 Loss: 0.5232\n",
      "Epoch 3 Loss: 0.1990\n",
      "Epoch 4 Loss: 0.0031\n",
      "Epoch 5 Loss: 0.0001\n",
      "Reward model saved.\n"
     ]
    }
   ],
   "source": [
    "model.train()\n",
    "for epoch in range(5):\n",
    "    total_loss = 0\n",
    "    for batch in dataloader:\n",
    "        chosen = batch[\"chosen_input_ids\"].to(device)\n",
    "        rejected = batch[\"rejected_input_ids\"].to(device)\n",
    "        reward_chosen = model(chosen)\n",
    "        reward_rejected = model(rejected)\n",
    "        loss = reward_loss(reward_chosen, reward_rejected)\n",
    "        optimizer.zero_grad()\n",
    "        loss.backward()\n",
    "        optimizer.step()\n",
    "        total_loss += loss.item()\n",
    "    print(f\"Epoch {epoch+1} Loss: {total_loss / len(dataloader):.4f}\")\n",
    "\n",
    "torch.save(model.state_dict(), \"reward_model.pt\")\n",
    "print(\"Reward model saved.\")"
   ]
  },
  {
   "cell_type": "code",
   "execution_count": null,
   "id": "personalized-connectivity",
   "metadata": {},
   "outputs": [],
   "source": []
  }
 ],
 "metadata": {
  "kernelspec": {
   "display_name": "Python 3 (ipykernel)",
   "language": "python",
   "name": "python3"
  },
  "language_info": {
   "codemirror_mode": {
    "name": "ipython",
    "version": 3
   },
   "file_extension": ".py",
   "mimetype": "text/x-python",
   "name": "python",
   "nbconvert_exporter": "python",
   "pygments_lexer": "ipython3",
   "version": "3.9.2"
  }
 },
 "nbformat": 4,
 "nbformat_minor": 5
}
