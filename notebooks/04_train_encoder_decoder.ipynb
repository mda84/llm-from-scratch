{
 "cells": [
  {
   "cell_type": "markdown",
   "id": "associate-atlanta",
   "metadata": {},
   "source": [
    "# 04: Train Encoder-Decoder Model (T5/BART-style)\n",
    "This notebook demonstrates how to train an encoder-decoder transformer model using PyTorch."
   ]
  },
  {
   "cell_type": "code",
   "execution_count": null,
   "id": "brilliant-publisher",
   "metadata": {},
   "outputs": [],
   "source": [
    "!pip install torch transformers"
   ]
  },
  {
   "cell_type": "code",
   "execution_count": 1,
   "id": "australian-meditation",
   "metadata": {},
   "outputs": [],
   "source": [
    "import sys\n",
    "import os\n",
    "sys.path.append(os.path.abspath(\"..\"))"
   ]
  },
  {
   "cell_type": "code",
   "execution_count": 2,
   "id": "based-appreciation",
   "metadata": {},
   "outputs": [],
   "source": [
    "import torch\n",
    "import torch.nn as nn\n",
    "import torch.optim as optim\n",
    "from torch.utils.data import DataLoader, Dataset\n",
    "from transformers import AutoTokenizer\n",
    "from models.encoder_decoder import EncoderDecoderModel\n",
    "from tqdm import tqdm"
   ]
  },
  {
   "cell_type": "markdown",
   "id": "mineral-tragedy",
   "metadata": {},
   "source": [
    "## Prepare toy translation-like dataset"
   ]
  },
  {
   "cell_type": "code",
   "execution_count": 3,
   "id": "characteristic-straight",
   "metadata": {},
   "outputs": [],
   "source": [
    "tokenizer = AutoTokenizer.from_pretrained(\"t5-small\")\n",
    "\n",
    "examples = [\n",
    "    (\"Translate English to French: Hello.\", \"Bonjour.\"),\n",
    "    (\"Translate English to French: How are you?\", \"Comment ça va ?\"),\n",
    "    (\"Translate English to French: Thank you!\", \"Merci !\"),\n",
    "    (\"Translate English to French: Goodbye.\", \"Au revoir.\"),\n",
    "    (\"Translate English to French: Yes.\", \"Oui.\"),\n",
    "]"
   ]
  },
  {
   "cell_type": "markdown",
   "id": "blessed-labor",
   "metadata": {},
   "source": [
    "## Create custom dataset and dataloader"
   ]
  },
  {
   "cell_type": "code",
   "execution_count": 4,
   "id": "basic-combine",
   "metadata": {},
   "outputs": [],
   "source": [
    "class Seq2SeqDataset(Dataset):\n",
    "    def __init__(self, examples, tokenizer, max_length=64):\n",
    "        self.examples = examples\n",
    "        self.tokenizer = tokenizer\n",
    "        self.max_length = max_length\n",
    "    def __len__(self):\n",
    "        return len(self.examples)\n",
    "    def __getitem__(self, idx):\n",
    "        src, tgt = self.examples[idx]\n",
    "        src_ids = self.tokenizer(src, padding='max_length', truncation=True, max_length=self.max_length, return_tensors=\"pt\")[\"input_ids\"].squeeze(0)\n",
    "        tgt_ids = self.tokenizer(tgt, padding='max_length', truncation=True, max_length=self.max_length, return_tensors=\"pt\")[\"input_ids\"].squeeze(0)\n",
    "        return src_ids, tgt_ids\n",
    "\n",
    "dataset = Seq2SeqDataset(examples, tokenizer)\n",
    "dataloader = DataLoader(dataset, batch_size=2, shuffle=True)"
   ]
  },
  {
   "cell_type": "markdown",
   "id": "oriented-laundry",
   "metadata": {},
   "source": [
    "## Initialize encoder-decoder model"
   ]
  },
  {
   "cell_type": "code",
   "execution_count": 5,
   "id": "radical-australian",
   "metadata": {},
   "outputs": [],
   "source": [
    "device = \"cuda\" if torch.cuda.is_available() else \"cpu\"\n",
    "model = EncoderDecoderModel(\n",
    "    vocab_size=tokenizer.vocab_size,\n",
    "    embed_dim=512,\n",
    "    enc_layers=4,\n",
    "    dec_layers=4,\n",
    "    heads=8,\n",
    "    ff_dim=1024,\n",
    "    max_len=64\n",
    ").to(device)"
   ]
  },
  {
   "cell_type": "markdown",
   "id": "pleasant-clinic",
   "metadata": {},
   "source": [
    "## Train with teacher forcing"
   ]
  },
  {
   "cell_type": "code",
   "execution_count": 6,
   "id": "organizational-adams",
   "metadata": {},
   "outputs": [
    {
     "name": "stdout",
     "output_type": "stream",
     "text": [
      "Epoch 1: loss = 9.2512\n",
      "Epoch 2: loss = 5.6492\n",
      "Epoch 3: loss = 5.2768\n",
      "Epoch 4: loss = 4.3701\n",
      "Epoch 5: loss = 4.2125\n",
      "Model saved.\n"
     ]
    }
   ],
   "source": [
    "optimizer = optim.AdamW(model.parameters(), lr=1e-4)\n",
    "criterion = nn.CrossEntropyLoss(ignore_index=tokenizer.pad_token_id)\n",
    "for epoch in range(5):\n",
    "    model.train()\n",
    "    total_loss = 0\n",
    "    for src_ids, tgt_ids in dataloader:\n",
    "        src_ids, tgt_ids = src_ids.to(device), tgt_ids.to(device)\n",
    "        logits = model(src_ids, tgt_ids[:, :-1])\n",
    "        loss = criterion(logits.view(-1, logits.size(-1)), tgt_ids[:, 1:].contiguous().view(-1))\n",
    "        optimizer.zero_grad()\n",
    "        loss.backward()\n",
    "        optimizer.step()\n",
    "        total_loss += loss.item()\n",
    "    print(f\"Epoch {epoch+1}: loss = {total_loss / len(dataloader):.4f}\")\n",
    "\n",
    "torch.save(model.state_dict(), \"encoder_decoder_translation.pt\")\n",
    "print(\"Model saved.\")"
   ]
  },
  {
   "cell_type": "code",
   "execution_count": null,
   "id": "strange-highland",
   "metadata": {},
   "outputs": [],
   "source": []
  }
 ],
 "metadata": {
  "kernelspec": {
   "display_name": "Python 3 (ipykernel)",
   "language": "python",
   "name": "python3"
  },
  "language_info": {
   "codemirror_mode": {
    "name": "ipython",
    "version": 3
   },
   "file_extension": ".py",
   "mimetype": "text/x-python",
   "name": "python",
   "nbconvert_exporter": "python",
   "pygments_lexer": "ipython3",
   "version": "3.9.2"
  }
 },
 "nbformat": 4,
 "nbformat_minor": 5
}
