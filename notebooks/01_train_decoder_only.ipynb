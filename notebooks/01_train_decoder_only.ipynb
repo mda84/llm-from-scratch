{
 "cells": [
  {
   "cell_type": "markdown",
   "id": "defined-google",
   "metadata": {},
   "source": [
    "# 01: Train Decoder-Only LLM (GPT-style)\n",
    "This notebook demonstrates how to train a decoder-only transformer model from scratch using PyTorch."
   ]
  },
  {
   "cell_type": "code",
   "execution_count": null,
   "id": "narrative-madrid",
   "metadata": {},
   "outputs": [],
   "source": [
    "# Install dependencies (if needed)\n",
    "!pip install torch transformers tqdm"
   ]
  },
  {
   "cell_type": "code",
   "execution_count": 1,
   "id": "ecological-behalf",
   "metadata": {},
   "outputs": [],
   "source": [
    "import sys\n",
    "import os\n",
    "sys.path.append(os.path.abspath(\"..\"))"
   ]
  },
  {
   "cell_type": "code",
   "execution_count": 2,
   "id": "vocational-characteristic",
   "metadata": {},
   "outputs": [],
   "source": [
    "import torch\n",
    "from torch.utils.data import DataLoader, Dataset\n",
    "import torch.nn as nn\n",
    "import torch.optim as optim\n",
    "from transformers import AutoTokenizer\n",
    "from models.decoder_only import GPTStyleDecoder\n",
    "from models.rotary_embeddings import build_rope_cache\n",
    "from tqdm import tqdm"
   ]
  },
  {
   "cell_type": "markdown",
   "id": "thermal-adventure",
   "metadata": {},
   "source": [
    "## Load and tokenize dataset"
   ]
  },
  {
   "cell_type": "code",
   "execution_count": 3,
   "id": "mighty-helena",
   "metadata": {},
   "outputs": [],
   "source": [
    "if not os.path.exists(\"../data/tiny_shakespeare.txt\"):\n",
    "    from urllib.request import urlretrieve\n",
    "    os.makedirs(\"../data\", exist_ok=True)\n",
    "    urlretrieve(\"https://raw.githubusercontent.com/karpathy/char-rnn/master/data/tinyshakespeare/input.txt\", \"../data/tiny_shakespeare.txt\")"
   ]
  },
  {
   "cell_type": "code",
   "execution_count": 4,
   "id": "fiscal-contrast",
   "metadata": {},
   "outputs": [
    {
     "name": "stderr",
     "output_type": "stream",
     "text": [
      "Token indices sequence length is longer than the specified maximum sequence length for this model (338025 > 1024). Running this sequence through the model will result in indexing errors\n"
     ]
    },
    {
     "name": "stdout",
     "output_type": "stream",
     "text": [
      "Total tokens: 338025\n"
     ]
    }
   ],
   "source": [
    "# Tokenize without batch padding or truncation\n",
    "from transformers import AutoTokenizer\n",
    "\n",
    "tokenizer = AutoTokenizer.from_pretrained(\"gpt2\")\n",
    "with open(\"../data/tiny_shakespeare.txt\", \"r\", encoding=\"utf-8\") as f:\n",
    "    text = f.read()\n",
    "\n",
    "# Tokenize as flat list (no return_tensors, no truncation)\n",
    "tokens = tokenizer.encode(text, add_special_tokens=False)\n",
    "print(f\"Total tokens: {len(tokens)}\")  # Just for sanity check"
   ]
  },
  {
   "cell_type": "markdown",
   "id": "victorian-proportion",
   "metadata": {},
   "source": [
    "## Prepare Dataset"
   ]
  },
  {
   "cell_type": "code",
   "execution_count": 5,
   "id": "developing-puppy",
   "metadata": {},
   "outputs": [],
   "source": [
    "class TextDataset(Dataset):\n",
    "    def __init__(self, tokens, block_size=128):\n",
    "        self.examples = [tokens[i:i+block_size] for i in range(0, len(tokens)-block_size, block_size)]\n",
    "    def __len__(self):\n",
    "        return len(self.examples)\n",
    "    def __getitem__(self, idx):\n",
    "        x = self.examples[idx]\n",
    "        return torch.tensor(x[:-1]), torch.tensor(x[1:])\n",
    "\n",
    "device = \"cuda\" if torch.cuda.is_available() else \"cpu\"\n",
    "dataset = TextDataset(tokens, block_size=128)\n",
    "dataloader = DataLoader(dataset, batch_size=8, shuffle=True, pin_memory=(device == \"cuda\"))"
   ]
  },
  {
   "cell_type": "markdown",
   "id": "interested-programming",
   "metadata": {},
   "source": [
    "## Initialize Model"
   ]
  },
  {
   "cell_type": "code",
   "execution_count": 6,
   "id": "early-journalist",
   "metadata": {},
   "outputs": [],
   "source": [
    "device = \"cuda\" if torch.cuda.is_available() else \"cpu\"\n",
    "model = GPTStyleDecoder(\n",
    "    vocab_size=tokenizer.vocab_size,\n",
    "    embed_dim=768,\n",
    "    depth=6,\n",
    "    heads=12,\n",
    "    ff_dim=2048,\n",
    "    max_len=128\n",
    ").to(device)"
   ]
  },
  {
   "cell_type": "markdown",
   "id": "incident-toolbox",
   "metadata": {},
   "source": [
    "## Training Loop"
   ]
  },
  {
   "cell_type": "code",
   "execution_count": 7,
   "id": "twelve-lodge",
   "metadata": {},
   "outputs": [
    {
     "name": "stderr",
     "output_type": "stream",
     "text": [
      "Epoch 1/3: 100%|██████████████████████████████████████████████████████████| 330/330 [17:40<00:00,  3.21s/it, loss=4.79]\n",
      "Epoch 2/3: 100%|██████████████████████████████████████████████████████████| 330/330 [18:23<00:00,  3.34s/it, loss=4.02]\n",
      "Epoch 3/3: 100%|██████████████████████████████████████████████████████████| 330/330 [17:48<00:00,  3.24s/it, loss=3.69]\n"
     ]
    },
    {
     "name": "stdout",
     "output_type": "stream",
     "text": [
      "Model saved.\n"
     ]
    }
   ],
   "source": [
    "optimizer = optim.AdamW(model.parameters(), lr=3e-4)\n",
    "criterion = nn.CrossEntropyLoss()\n",
    "\n",
    "for epoch in range(3):\n",
    "    model.train()\n",
    "    total_loss = 0\n",
    "    loop = tqdm(dataloader, desc=f\"Epoch {epoch+1}/3\")\n",
    "    for x, y in loop:\n",
    "        x, y = x.to(device), y.to(device)\n",
    "        logits = model(x)\n",
    "        #sin, cos = build_rope_cache(x.size(1), model.embed_dim // model.num_heads, device)\n",
    "        #logits = model(x, sin=sin, cos=cos)\n",
    "        loss = criterion(logits.view(-1, logits.size(-1)), y.view(-1))\n",
    "        optimizer.zero_grad()\n",
    "        loss.backward()\n",
    "        optimizer.step()\n",
    "        loop.set_postfix(loss=loss.item())\n",
    "\n",
    "torch.save(model.state_dict(), \"gpt_decoder_trained.pt\")\n",
    "print(\"Model saved.\")"
   ]
  },
  {
   "cell_type": "code",
   "execution_count": null,
   "id": "editorial-football",
   "metadata": {},
   "outputs": [],
   "source": []
  }
 ],
 "metadata": {
  "kernelspec": {
   "display_name": "Python 3 (ipykernel)",
   "language": "python",
   "name": "python3"
  },
  "language_info": {
   "codemirror_mode": {
    "name": "ipython",
    "version": 3
   },
   "file_extension": ".py",
   "mimetype": "text/x-python",
   "name": "python",
   "nbconvert_exporter": "python",
   "pygments_lexer": "ipython3",
   "version": "3.9.2"
  }
 },
 "nbformat": 4,
 "nbformat_minor": 5
}
