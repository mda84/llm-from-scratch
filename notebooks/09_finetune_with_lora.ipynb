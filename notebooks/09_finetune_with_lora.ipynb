{
 "cells": [
  {
   "cell_type": "markdown",
   "id": "fixed-kitty",
   "metadata": {},
   "source": [
    "# 09: Fine-Tune Decoder-Only Model with LoRA (Low-Rank Adaptation)\n",
    "This notebook demonstrates how to use LoRA to fine-tune a GPT-style decoder model in a parameter-efficient way.\n",
    "\n",
    "We'll:\n",
    "- Load a base decoder model\n",
    "- Inject LoRA adapters into the attention layer\n",
    "- Freeze all base parameters and train only LoRA\n",
    "- Evaluate training loss"
   ]
  },
  {
   "cell_type": "code",
   "execution_count": null,
   "id": "capable-establishment",
   "metadata": {},
   "outputs": [],
   "source": [
    "!pip install torch transformers"
   ]
  },
  {
   "cell_type": "code",
   "execution_count": null,
   "id": "opened-flight",
   "metadata": {},
   "outputs": [],
   "source": [
    "import sys\n",
    "import os\n",
    "sys.path.append(os.path.abspath(\"..\"))"
   ]
  },
  {
   "cell_type": "code",
   "execution_count": null,
   "id": "decent-scale",
   "metadata": {},
   "outputs": [],
   "source": [
    "import torch\n",
    "import torch.nn as nn\n",
    "import torch.optim as optim\n",
    "from torch.utils.data import Dataset, DataLoader\n",
    "from transformers import AutoTokenizer\n",
    "from models.lora_adapter import LoRALinear\n",
    "import os"
   ]
  },
  {
   "cell_type": "markdown",
   "id": "minor-verification",
   "metadata": {},
   "source": [
    "## Load and tokenize dataset"
   ]
  },
  {
   "cell_type": "code",
   "execution_count": null,
   "id": "heard-cloud",
   "metadata": {},
   "outputs": [],
   "source": [
    "tokenizer = AutoTokenizer.from_pretrained(\"gpt2\")\n",
    "tokenizer.add_special_tokens({'pad_token': '[PAD]'})\n",
    "\n",
    "if not os.path.exists(\"../data/tiny_shakespeare.txt\"):\n",
    "    from urllib.request import urlretrieve\n",
    "    os.makedirs(\"../data\", exist_ok=True)\n",
    "    urlretrieve(\"https://raw.githubusercontent.com/karpathy/char-rnn/master/data/tinyshakespeare/input.txt\", \"../data/tiny_shakespeare.txt\")\n",
    "\n",
    "with open(\"../data/tiny_shakespeare.txt\", \"r\", encoding=\"utf-8\") as f:\n",
    "    text = f.read()\n",
    "tokens = tokenizer.encode(text, add_special_tokens=False)"
   ]
  },
  {
   "cell_type": "markdown",
   "id": "antique-difficulty",
   "metadata": {},
   "source": [
    "## Create dataset"
   ]
  },
  {
   "cell_type": "code",
   "execution_count": null,
   "id": "accessory-warrant",
   "metadata": {},
   "outputs": [],
   "source": [
    "class TextDataset(Dataset):\n",
    "    def __init__(self, tokens, block_size):\n",
    "        self.examples = [\n",
    "            torch.tensor(tokens[i:i+block_size+1])\n",
    "            for i in range(len(tokens) - block_size - 1)\n",
    "        ]\n",
    "    def __len__(self):\n",
    "        return len(self.examples)\n",
    "    def __getitem__(self, idx):\n",
    "        data = self.examples[idx]\n",
    "        return data[:-1], data[1:]\n",
    "\n",
    "block_size = 128\n",
    "dataset = TextDataset(tokens, block_size)\n",
    "dataloader = DataLoader(dataset, batch_size=8, shuffle=True)"
   ]
  },
  {
   "cell_type": "markdown",
   "id": "novel-andorra",
   "metadata": {},
   "source": [
    "## Define decoder with LoRA in self-attention"
   ]
  },
  {
   "cell_type": "code",
   "execution_count": null,
   "id": "round-benefit",
   "metadata": {},
   "outputs": [],
   "source": [
    "class LoRAAttentionBlock(nn.Module):\n",
    "    def __init__(self, embed_dim, heads):\n",
    "        super().__init__()\n",
    "        self.heads = heads\n",
    "        self.head_dim = embed_dim // heads\n",
    "\n",
    "        self.q_proj = LoRALinear(embed_dim, embed_dim, r=4)\n",
    "        self.k_proj = nn.Linear(embed_dim, embed_dim)\n",
    "        self.v_proj = LoRALinear(embed_dim, embed_dim, r=4)\n",
    "        self.out_proj = nn.Linear(embed_dim, embed_dim)\n",
    "\n",
    "        self.ln = nn.LayerNorm(embed_dim)\n",
    "        self.dropout = nn.Dropout(0.1)\n",
    "\n",
    "    def forward(self, x):\n",
    "        q = self.q_proj(x)\n",
    "        k = self.k_proj(x)\n",
    "        v = self.v_proj(x)\n",
    "        B, T, C = q.size()\n",
    "        q = q.view(B, T, self.heads, self.head_dim).transpose(1, 2)\n",
    "        k = k.view(B, T, self.heads, self.head_dim).transpose(1, 2)\n",
    "        v = v.view(B, T, self.heads, self.head_dim).transpose(1, 2)\n",
    "        attn_weights = (q @ k.transpose(-2, -1)) / (self.head_dim ** 0.5)\n",
    "        attn_weights = attn_weights.masked_fill(torch.tril(torch.ones(T, T, device=x.device)) == 0, float('-inf'))\n",
    "        attn = torch.softmax(attn_weights, dim=-1)\n",
    "        out = (attn @ v).transpose(1, 2).contiguous().view(B, T, C)\n",
    "        return self.ln(x + self.dropout(self.out_proj(out)))"
   ]
  },
  {
   "cell_type": "code",
   "execution_count": null,
   "id": "specific-secretariat",
   "metadata": {},
   "outputs": [],
   "source": [
    "class LoRAGPTDecoder(nn.Module):\n",
    "    def __init__(self, vocab_size, embed_dim, depth, heads, max_len):\n",
    "        super().__init__()\n",
    "        self.token_embed = nn.Embedding(vocab_size, embed_dim)\n",
    "        self.pos_embed = nn.Parameter(torch.zeros(1, max_len, embed_dim))\n",
    "        self.blocks = nn.ModuleList([\n",
    "            nn.Sequential(\n",
    "                LoRAAttentionBlock(embed_dim, heads),\n",
    "                nn.Sequential(\n",
    "                    nn.LayerNorm(embed_dim),\n",
    "                    nn.Linear(embed_dim, embed_dim * 4),\n",
    "                    nn.GELU(),\n",
    "                    nn.Linear(embed_dim * 4, embed_dim),\n",
    "                )\n",
    "            ) for _ in range(depth)\n",
    "        ])\n",
    "        self.norm = nn.LayerNorm(embed_dim)\n",
    "        self.head = nn.Linear(embed_dim, vocab_size)\n",
    "\n",
    "    def forward(self, x):\n",
    "        x = self.token_embed(x) + self.pos_embed[:, :x.size(1)]\n",
    "        for block in self.blocks:\n",
    "            x = block(x)\n",
    "        return self.head(self.norm(x))"
   ]
  },
  {
   "cell_type": "markdown",
   "id": "minus-excess",
   "metadata": {},
   "source": [
    "## Fine-tune only LoRA params"
   ]
  },
  {
   "cell_type": "code",
   "execution_count": null,
   "id": "referenced-wisconsin",
   "metadata": {},
   "outputs": [],
   "source": [
    "device = \"cuda\" if torch.cuda.is_available() else \"cpu\"\n",
    "model = LoRAGPTDecoder(vocab_size=len(tokenizer), embed_dim=512, depth=4, heads=8, max_len=block_size).to(device)\n",
    "\n",
    "# Freeze all but LoRA\n",
    "for name, param in model.named_parameters():\n",
    "    if 'lora' not in name:\n",
    "        param.requires_grad = False\n",
    "\n",
    "optimizer = optim.AdamW(filter(lambda p: p.requires_grad, model.parameters()), lr=5e-4)\n",
    "criterion = nn.CrossEntropyLoss()\n",
    "\n",
    "for epoch in range(3):\n",
    "    model.train()\n",
    "    total_loss = 0\n",
    "    for x, y in dataloader:\n",
    "        x, y = x.to(device), y.to(device)\n",
    "        logits = model(x)\n",
    "        loss = criterion(logits.view(-1, logits.size(-1)), y.view(-1))\n",
    "        optimizer.zero_grad()\n",
    "        loss.backward()\n",
    "        optimizer.step()\n",
    "        total_loss += loss.item()\n",
    "    print(f\"Epoch {epoch+1} LoRA fine-tuning loss: {total_loss / len(dataloader):.4f}\")\n",
    "\n",
    "torch.save(model.state_dict(), \"lora_finetuned_decoder.pt\")\n",
    "print(\"✅ LoRA fine-tuned model saved.\")"
   ]
  },
  {
   "cell_type": "code",
   "execution_count": null,
   "id": "remarkable-metropolitan",
   "metadata": {},
   "outputs": [],
   "source": []
  }
 ],
 "metadata": {
  "kernelspec": {
   "display_name": "Python 3 (ipykernel)",
   "language": "python",
   "name": "python3"
  },
  "language_info": {
   "codemirror_mode": {
    "name": "ipython",
    "version": 3
   },
   "file_extension": ".py",
   "mimetype": "text/x-python",
   "name": "python",
   "nbconvert_exporter": "python",
   "pygments_lexer": "ipython3",
   "version": "3.9.2"
  }
 },
 "nbformat": 4,
 "nbformat_minor": 5
}
