{
 "cells": [
  {
   "cell_type": "markdown",
   "id": "editorial-simon",
   "metadata": {},
   "source": [
    "# 07: Compare RoPE and KV Cache in Decoder-Only Models\n",
    "This notebook demonstrates the performance and output differences between:\n",
    "- ✅ No RoPE, No KV Cache\n",
    "- ✅ RoPE Only\n",
    "- ✅ KV Cache Only\n",
    "- ✅ Both RoPE + KV Cache\n",
    "\n",
    "We will use a fixed prompt and measure:\n",
    "- Generation time\n",
    "- Token quality (manually)\n",
    "- Optionally perplexity (future)"
   ]
  },
  {
   "cell_type": "code",
   "execution_count": null,
   "id": "standing-valentine",
   "metadata": {},
   "outputs": [],
   "source": [
    "!pip install torch transformers"
   ]
  },
  {
   "cell_type": "code",
   "execution_count": 1,
   "id": "victorian-logic",
   "metadata": {},
   "outputs": [],
   "source": [
    "import sys\n",
    "import os\n",
    "sys.path.append(os.path.abspath(\"..\"))"
   ]
  },
  {
   "cell_type": "code",
   "execution_count": 2,
   "id": "simplified-aquatic",
   "metadata": {},
   "outputs": [],
   "source": [
    "import torch\n",
    "import time\n",
    "from transformers import AutoTokenizer\n",
    "from models.decoder_only import GPTStyleDecoder\n",
    "from models.rotary_embeddings import build_rope_cache, RotaryEmbedding\n",
    "from models.kv_cache import KVCache"
   ]
  },
  {
   "cell_type": "markdown",
   "id": "fifth-harbor",
   "metadata": {},
   "source": [
    "## Load tokenizer and define prompt"
   ]
  },
  {
   "cell_type": "code",
   "execution_count": 3,
   "id": "photographic-cricket",
   "metadata": {},
   "outputs": [],
   "source": [
    "tokenizer = AutoTokenizer.from_pretrained(\"gpt2\")\n",
    "tokenizer.add_special_tokens({'pad_token': '[PAD]'})\n",
    "prompt = \"The quick brown fox\"\n",
    "input_ids = tokenizer(prompt, return_tensors=\"pt\")[\"input_ids\"]\n",
    "device = \"cuda\" if torch.cuda.is_available() else \"cpu\""
   ]
  },
  {
   "cell_type": "markdown",
   "id": "attractive-poland",
   "metadata": {},
   "source": [
    "## Define generation function (with options for RoPE and KV)"
   ]
  },
  {
   "cell_type": "code",
   "execution_count": 4,
   "id": "internal-uniform",
   "metadata": {},
   "outputs": [],
   "source": [
    "def generate_with_options(model, input_ids, max_new_tokens=32, use_rope=False, use_kv=False):\n",
    "    model.eval()\n",
    "    input_ids = input_ids.to(device)\n",
    "    generated = input_ids.clone()\n",
    "\n",
    "    sin, cos = None, None\n",
    "    if use_rope:\n",
    "        sin, cos = build_rope_cache(max_new_tokens + input_ids.shape[1], model.rope_dims(), device)\n",
    "\n",
    "    cache = None\n",
    "    if use_kv:\n",
    "        cache = KVCache(max_batch_size=1, max_seq_len=max_new_tokens + input_ids.shape[1], num_heads=model.num_heads, head_dim=model.embed_dim // model.num_heads, device=device)\n",
    "\n",
    "    with torch.no_grad():\n",
    "        for _ in range(max_new_tokens):\n",
    "            logits = model(generated, sin=sin, cos=cos, kv_cache=cache) if (use_rope or use_kv) else model(generated)\n",
    "            next_token = torch.argmax(logits[:, -1, :], dim=-1, keepdim=True)\n",
    "            generated = torch.cat((generated, next_token), dim=1)\n",
    "    return tokenizer.decode(generated[0], skip_special_tokens=True)"
   ]
  },
  {
   "cell_type": "markdown",
   "id": "noble-greeting",
   "metadata": {},
   "source": [
    "## Run comparisons"
   ]
  },
  {
   "cell_type": "code",
   "execution_count": 9,
   "id": "going-liberia",
   "metadata": {},
   "outputs": [
    {
     "name": "stdout",
     "output_type": "stream",
     "text": [
      "ROPE=❌, KV=❌ → time: 1.019s\n",
      "--------------------------------------------------------------------------------\n",
      "ROPE=✅, KV=❌ → time: 0.986s\n",
      "--------------------------------------------------------------------------------\n",
      "ROPE=❌, KV=✅ → time: 0.986s\n",
      "--------------------------------------------------------------------------------\n",
      "ROPE=✅, KV=✅ → time: 0.962s\n",
      "--------------------------------------------------------------------------------\n"
     ]
    }
   ],
   "source": [
    "results = {}\n",
    "configs = [\n",
    "    (False, False),\n",
    "    (True, False),\n",
    "    (False, True),\n",
    "    (True, True)\n",
    "]\n",
    "\n",
    "for use_rope, use_kv in configs:\n",
    "    name = f\"ROPE={'✅' if use_rope else '❌'}, KV={'✅' if use_kv else '❌'}\"\n",
    "    model = GPTStyleDecoder(\n",
    "                            vocab_size=tokenizer.vocab_size,\n",
    "                            embed_dim=768,\n",
    "                            depth=6,\n",
    "                            heads=12,\n",
    "                            ff_dim=2048,\n",
    "                            max_len=128\n",
    "                            ).to(device)\n",
    "    if use_rope:\n",
    "        model.load_state_dict(torch.load(\"gpt_decoder_rope_trained.pt\", map_location=device))\n",
    "    else:\n",
    "        model.load_state_dict(torch.load(\"gpt_decoder_trained.pt\", map_location=device))\n",
    "    model.eval()\n",
    "    start = time.time()\n",
    "    output = generate_with_options(model, input_ids, use_rope=use_rope, use_kv=use_kv)\n",
    "    elapsed = time.time() - start\n",
    "    results[name] = (output, elapsed)\n",
    "    #print(f\"{name} → time: {elapsed:.3f}s\\n\\n{output}\\n{'-'*80}\")\n",
    "    print(f\"{name} → time: {elapsed:.3f}s\\n{'-'*80}\")"
   ]
  },
  {
   "cell_type": "code",
   "execution_count": null,
   "id": "coordinated-white",
   "metadata": {},
   "outputs": [],
   "source": []
  }
 ],
 "metadata": {
  "kernelspec": {
   "display_name": "Python 3 (ipykernel)",
   "language": "python",
   "name": "python3"
  },
  "language_info": {
   "codemirror_mode": {
    "name": "ipython",
    "version": 3
   },
   "file_extension": ".py",
   "mimetype": "text/x-python",
   "name": "python",
   "nbconvert_exporter": "python",
   "pygments_lexer": "ipython3",
   "version": "3.9.2"
  }
 },
 "nbformat": 4,
 "nbformat_minor": 5
}
