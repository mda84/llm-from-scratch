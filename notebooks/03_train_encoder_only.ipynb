{
 "cells": [
  {
   "cell_type": "markdown",
   "id": "sublime-procedure",
   "metadata": {},
   "source": [
    "# 03: Train Encoder-Only Model (BERT-style)\n",
    "This notebook demonstrates how to train a masked language model (MLM) using an encoder-only architecture like BERT."
   ]
  },
  {
   "cell_type": "code",
   "execution_count": null,
   "id": "abroad-caution",
   "metadata": {},
   "outputs": [],
   "source": [
    "!pip install torch transformers"
   ]
  },
  {
   "cell_type": "code",
   "execution_count": 1,
   "id": "plain-gazette",
   "metadata": {},
   "outputs": [],
   "source": [
    "import sys\n",
    "import os\n",
    "sys.path.append(os.path.abspath(\"..\"))"
   ]
  },
  {
   "cell_type": "code",
   "execution_count": 2,
   "id": "final-lobby",
   "metadata": {},
   "outputs": [],
   "source": [
    "import torch\n",
    "import torch.nn as nn\n",
    "import torch.optim as optim\n",
    "from torch.utils.data import DataLoader, Dataset\n",
    "from transformers import AutoTokenizer\n",
    "from models.encoder_only import BertStyleEncoder\n",
    "import random"
   ]
  },
  {
   "cell_type": "markdown",
   "id": "psychological-regression",
   "metadata": {},
   "source": [
    "## Load and tokenize dataset"
   ]
  },
  {
   "cell_type": "code",
   "execution_count": null,
   "id": "graphic-passion",
   "metadata": {},
   "outputs": [],
   "source": [
    "if not os.path.exists(\"../data/tiny_shakespeare.txt\"):\n",
    "    from urllib.request import urlretrieve\n",
    "    os.makedirs(\"../data\", exist_ok=True)\n",
    "    urlretrieve(\"https://raw.githubusercontent.com/karpathy/char-rnn/master/data/tinyshakespeare/input.txt\", \"../data/tiny_shakespeare.txt\")"
   ]
  },
  {
   "cell_type": "code",
   "execution_count": 3,
   "id": "bottom-detective",
   "metadata": {},
   "outputs": [
    {
     "data": {
      "application/vnd.jupyter.widget-view+json": {
       "model_id": "3b5743673d89476db4bb17fe97ac21b5",
       "version_major": 2,
       "version_minor": 0
      },
      "text/plain": [
       "tokenizer_config.json:   0%|          | 0.00/48.0 [00:00<?, ?B/s]"
      ]
     },
     "metadata": {},
     "output_type": "display_data"
    },
    {
     "name": "stderr",
     "output_type": "stream",
     "text": [
      "c:\\users\\moham\\appdata\\local\\programs\\python\\python39\\lib\\site-packages\\huggingface_hub\\file_download.py:140: UserWarning: `huggingface_hub` cache-system uses symlinks by default to efficiently store duplicated files but your machine does not support them in C:\\Users\\moham\\.cache\\huggingface\\hub\\models--bert-base-uncased. Caching files will still work but in a degraded version that might require more space on your disk. This warning can be disabled by setting the `HF_HUB_DISABLE_SYMLINKS_WARNING` environment variable. For more details, see https://huggingface.co/docs/huggingface_hub/how-to-cache#limitations.\n",
      "To support symlinks on Windows, you either need to activate Developer Mode or to run Python as an administrator. In order to activate developer mode, see this article: https://docs.microsoft.com/en-us/windows/apps/get-started/enable-your-device-for-development\n",
      "  warnings.warn(message)\n"
     ]
    },
    {
     "data": {
      "application/vnd.jupyter.widget-view+json": {
       "model_id": "8936a0610bbb4926a0d63ab082eed52b",
       "version_major": 2,
       "version_minor": 0
      },
      "text/plain": [
       "config.json:   0%|          | 0.00/570 [00:00<?, ?B/s]"
      ]
     },
     "metadata": {},
     "output_type": "display_data"
    },
    {
     "data": {
      "application/vnd.jupyter.widget-view+json": {
       "model_id": "a870d643a55a4df5875c09f9d555484d",
       "version_major": 2,
       "version_minor": 0
      },
      "text/plain": [
       "vocab.txt:   0%|          | 0.00/232k [00:00<?, ?B/s]"
      ]
     },
     "metadata": {},
     "output_type": "display_data"
    },
    {
     "data": {
      "application/vnd.jupyter.widget-view+json": {
       "model_id": "5510c54e5cab4b4fb0442bd4a53dcb66",
       "version_major": 2,
       "version_minor": 0
      },
      "text/plain": [
       "tokenizer.json:   0%|          | 0.00/466k [00:00<?, ?B/s]"
      ]
     },
     "metadata": {},
     "output_type": "display_data"
    }
   ],
   "source": [
    "tokenizer = AutoTokenizer.from_pretrained(\"bert-base-uncased\")\n",
    "with open(\"../data/tiny_shakespeare.txt\", \"r\", encoding=\"utf-8\") as f:\n",
    "    text = f.read()\n",
    "tokens = tokenizer(text, return_tensors=\"pt\", padding=True, truncation=True)[\"input_ids\"].squeeze(0)"
   ]
  },
  {
   "cell_type": "markdown",
   "id": "former-delight",
   "metadata": {},
   "source": [
    "## Masked Language Modeling Dataset"
   ]
  },
  {
   "cell_type": "code",
   "execution_count": 4,
   "id": "mighty-isolation",
   "metadata": {},
   "outputs": [],
   "source": [
    "class MLMDataset(Dataset):\n",
    "    def __init__(self, tokens, mask_prob=0.15, block_size=64):\n",
    "        self.samples = [tokens[i:i+block_size] for i in range(0, len(tokens)-block_size, block_size)]\n",
    "        self.mask_prob = mask_prob\n",
    "    def __len__(self):\n",
    "        return len(self.samples)\n",
    "    def __getitem__(self, idx):\n",
    "        input_ids = self.samples[idx].clone()\n",
    "        labels = input_ids.clone()\n",
    "        mask = torch.rand(input_ids.shape) < self.mask_prob\n",
    "        input_ids[mask] = tokenizer.mask_token_id\n",
    "        return input_ids, labels\n",
    "\n",
    "dataset = MLMDataset(tokens)\n",
    "dataloader = DataLoader(dataset, batch_size=16, shuffle=True)"
   ]
  },
  {
   "cell_type": "markdown",
   "id": "studied-luxembourg",
   "metadata": {},
   "source": [
    "## Initialize BERT-style encoder model"
   ]
  },
  {
   "cell_type": "code",
   "execution_count": 5,
   "id": "vocal-dimension",
   "metadata": {},
   "outputs": [],
   "source": [
    "device = \"cuda\" if torch.cuda.is_available() else \"cpu\"\n",
    "model = BertStyleEncoder(\n",
    "    vocab_size=tokenizer.vocab_size,\n",
    "    embed_dim=768,\n",
    "    depth=6,\n",
    "    heads=12,\n",
    "    ff_dim=2048,\n",
    "    max_len=64\n",
    ").to(device)"
   ]
  },
  {
   "cell_type": "markdown",
   "id": "united-equivalent",
   "metadata": {},
   "source": [
    "## Train with MLM loss"
   ]
  },
  {
   "cell_type": "code",
   "execution_count": 6,
   "id": "angry-stationery",
   "metadata": {},
   "outputs": [
    {
     "name": "stdout",
     "output_type": "stream",
     "text": [
      "Epoch 1 loss: 10.4540\n",
      "Epoch 2 loss: 9.8412\n",
      "Epoch 3 loss: 9.3071\n",
      "Model saved.\n"
     ]
    }
   ],
   "source": [
    "optimizer = optim.AdamW(model.parameters(), lr=5e-5)\n",
    "criterion = nn.CrossEntropyLoss()\n",
    "for epoch in range(3):\n",
    "    model.train()\n",
    "    total_loss = 0\n",
    "    for input_ids, labels in dataloader:\n",
    "        input_ids, labels = input_ids.to(device), labels.to(device)\n",
    "        logits = model(input_ids)\n",
    "        loss = criterion(logits.view(-1, logits.size(-1)), labels.view(-1))\n",
    "        optimizer.zero_grad()\n",
    "        loss.backward()\n",
    "        optimizer.step()\n",
    "        total_loss += loss.item()\n",
    "    print(f\"Epoch {epoch+1} loss: {total_loss / len(dataloader):.4f}\")\n",
    "\n",
    "torch.save(model.state_dict(), \"bert_style_encoder.pt\")\n",
    "print(\"Model saved.\")"
   ]
  },
  {
   "cell_type": "code",
   "execution_count": null,
   "id": "roman-eating",
   "metadata": {},
   "outputs": [],
   "source": []
  }
 ],
 "metadata": {
  "kernelspec": {
   "display_name": "Python 3 (ipykernel)",
   "language": "python",
   "name": "python3"
  },
  "language_info": {
   "codemirror_mode": {
    "name": "ipython",
    "version": 3
   },
   "file_extension": ".py",
   "mimetype": "text/x-python",
   "name": "python",
   "nbconvert_exporter": "python",
   "pygments_lexer": "ipython3",
   "version": "3.9.2"
  }
 },
 "nbformat": 4,
 "nbformat_minor": 5
}
